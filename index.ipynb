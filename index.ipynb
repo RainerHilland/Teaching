{
 "cells": [
  {
   "cell_type": "markdown",
   "metadata": {},
   "source": [
    "# Introduction to Solar Radiation"
   ]
  },
  {
   "cell_type": "markdown",
   "metadata": {},
   "source": [
    "This notebook works through a few simple equations and concepts from the lectures. Code is written in R. The notebook consists of text and bits of code. For code cells, highlight the cell and press 'Run' or press Shift+Enter to execute the code. As we go along some bits will rely on certain packages or earlier values and functions, so if you're getting errors make sure you've executed the code in previous cells first. If you prefer to see just the scripts they're also available on my GitHub."
   ]
  },
  {
   "cell_type": "markdown",
   "metadata": {},
   "source": [
    "This first bit loads a package that we'll be using for plotting. Make sure it's executed first:"
   ]
  },
  {
   "cell_type": "code",
   "execution_count": 10,
   "metadata": {},
   "outputs": [],
   "source": [
    "library(ggplot2)\n",
    "library(tidyr)"
   ]
  },
  {
   "cell_type": "markdown",
   "metadata": {},
   "source": [
    "To get a feel for equations, please feel free to play with the values as much as you like."
   ]
  },
  {
   "cell_type": "markdown",
   "metadata": {},
   "source": [
    "## 1 - Radiation Basics"
   ]
  },
  {
   "cell_type": "markdown",
   "metadata": {},
   "source": [
    "#### Calculate frequency from wavelength and the energy of a photon, etc."
   ]
  },
  {
   "cell_type": "code",
   "execution_count": 13,
   "metadata": {},
   "outputs": [
    {
     "name": "stdout",
     "output_type": "stream",
     "text": [
      "[1] \"Frequency of wavelength 5.5e-07 = 545454545454545\"\n"
     ]
    }
   ],
   "source": [
    "# f = c/lambda\n",
    "\n",
    "lambda <- 0.55 * 10^(-6) # enter wavelength in um\n",
    "c <- 3*10^8 # approximation to speed of light\n",
    "f <- c/lambda # calculate frequency\n",
    "print(paste(\"Frequency of wavelength\",lambda,'=',f))"
   ]
  },
  {
   "cell_type": "code",
   "execution_count": 12,
   "metadata": {},
   "outputs": [
    {
     "name": "stdout",
     "output_type": "stream",
     "text": [
      "[1] 3.616364e-19\n"
     ]
    }
   ],
   "source": [
    "\n",
    "# calculate energy of a photon\n",
    "# e = hf\n",
    "\n",
    "h <- 6.63 * 10^(-34) # Planck's constant\n",
    "e <- h*f # calculate energy per photon\n",
    "print(e)"
   ]
  },
  {
   "cell_type": "markdown",
   "metadata": {},
   "source": [
    "\n",
    "Q: How does the frequency, wavelength, and energy per photon change when we move to the infrared (e.g. 4 um) waveband? How about the ultraviolet (e.g. 0.1 um)?\n",
    "Modify the code above and re-run it"
   ]
  },
  {
   "cell_type": "markdown",
   "metadata": {},
   "source": [
    "#### Calculate total energy reaching the surface of Freiburg over a year:"
   ]
  },
  {
   "cell_type": "code",
   "execution_count": 16,
   "metadata": {
    "scrolled": true
   },
   "outputs": [
    {
     "name": "stdout",
     "output_type": "stream",
     "text": [
      "[1] \"4.09968 GigaJoules\"\n",
      "[1] \"1138.8 kWh\"\n"
     ]
    }
   ],
   "source": [
    "avgIrradiance <- 130 # W/m2\n",
    "sPerYear <- 60*60*24*365 # number of seconds per year\n",
    "joules <- avgIrradiance * sPerYear # joules at Freiburg surface\n",
    "\n",
    "GJ <- joules / 1000000000 # convert to gigajoules\n",
    "print(paste(GJ,\"GigaJoules\"))\n",
    "\n",
    "kWh <- joules / (3600*1000) # convert to kWh\n",
    "print(paste(kWh,\"kWh\"))"
   ]
  },
  {
   "cell_type": "markdown",
   "metadata": {},
   "source": [
    "Q: The flux density of solar radiation at the edge of Earth's atmosphere normal to the equator is ~1361 W/m2. How many GJ is this over a year?\n",
    "How many kWh?"
   ]
  },
  {
   "cell_type": "markdown",
   "metadata": {},
   "source": [
    "#### Relate the sun's surface temperature (5778 K) to its wavelength of maximum emission:"
   ]
  },
  {
   "cell_type": "code",
   "execution_count": 18,
   "metadata": {},
   "outputs": [
    {
     "name": "stdout",
     "output_type": "stream",
     "text": [
      "[1] \"The Sun's wavelength of maximum emission is 0.501523018345448 um\"\n"
     ]
    }
   ],
   "source": [
    "\n",
    "b <- 2.8978e-3 # Constant\n",
    "TSun <- 5778 # Kelvin\n",
    "lambdaMax <- b/TSun\n",
    "lambdaMax <- lambdaMax * 1000000 # convert to um\n",
    "print(paste(\"The Sun's wavelength of maximum emission is\",lambdaMax,\"um\"))"
   ]
  },
  {
   "cell_type": "markdown",
   "metadata": {},
   "source": [
    "Q: Seen from space Earth's radiative (effective) temperature is roughly 255 K (-18 deg.C). What is Earth's wavelength of max emission?\n"
   ]
  },
  {
   "cell_type": "markdown",
   "metadata": {},
   "source": [
    "## 2 - Solar Position"
   ]
  },
  {
   "cell_type": "markdown",
   "metadata": {},
   "source": [
    "#### Calculate the solar declination"
   ]
  },
  {
   "cell_type": "markdown",
   "metadata": {},
   "source": [
    "The following section uses functions. These are reusable pieces of code that we can call to perform calculations we intend to repeat. The function definition names the function, specifies what input variables it requires to run, what code is to be executed, and what value is to be returned. As an example, the following two functions convert radians to degrees and vice versa"
   ]
  },
  {
   "cell_type": "code",
   "execution_count": 19,
   "metadata": {},
   "outputs": [],
   "source": [
    "# convert radians to degrees for coherence and vice-verse\n",
    "# Execute this code to define these functions before moving on\n",
    "radToDeg <- function(r) {return(r * (180/pi))}\n",
    "degToRad <- function(deg) {return(deg*(pi/180))}"
   ]
  },
  {
   "cell_type": "markdown",
   "metadata": {},
   "source": [
    "Once the above code is executed, those functions are defined and we can use them at our leisure. You can play verify they work by executing them here:"
   ]
  },
  {
   "cell_type": "code",
   "execution_count": 23,
   "metadata": {},
   "outputs": [
    {
     "data": {
      "text/html": [
       "3.14159265358979"
      ],
      "text/latex": [
       "3.14159265358979"
      ],
      "text/markdown": [
       "3.14159265358979"
      ],
      "text/plain": [
       "[1] 3.141593"
      ]
     },
     "metadata": {},
     "output_type": "display_data"
    },
    {
     "data": {
      "text/html": [
       "180"
      ],
      "text/latex": [
       "180"
      ],
      "text/markdown": [
       "180"
      ],
      "text/plain": [
       "[1] 180"
      ]
     },
     "metadata": {},
     "output_type": "display_data"
    }
   ],
   "source": [
    "angle <- 180\n",
    "rad <- pi\n",
    "degToRad(angle)\n",
    "radToDeg(rad)"
   ]
  },
  {
   "cell_type": "markdown",
   "metadata": {},
   "source": [
    "This function calculates the solar declination:"
   ]
  },
  {
   "cell_type": "code",
   "execution_count": 24,
   "metadata": {},
   "outputs": [],
   "source": [
    "# function for calculating the solar declination\n",
    "getSolarDec <- function(yd) {\n",
    "  gamma <- (2*pi)/365 * (yd-1)\n",
    "  delta <- 0.006918 - 0.399912*cos(gamma) + 0.070257*sin(gamma) - \n",
    "    0.006758*cos(2*gamma) + 0.000907*sin(2*gamma) - \n",
    "    0.002697*cos(3*gamma) + 0.00148*sin(3*gamma)\n",
    "  return(delta)\n",
    "}"
   ]
  },
  {
   "cell_type": "markdown",
   "metadata": {},
   "source": [
    " Enter a day of the year (as integer 1-365) below and calculate the solar declination"
   ]
  },
  {
   "cell_type": "code",
   "execution_count": 25,
   "metadata": {},
   "outputs": [
    {
     "name": "stdout",
     "output_type": "stream",
     "text": [
      "[1] -9.749847\n"
     ]
    }
   ],
   "source": [
    "# calculate the solar declination on, e.g., your birthday\n",
    "yd <- 55 # adjust to your birthday\n",
    "\n",
    "delta <- getSolarDec(yd)\n",
    "print(radToDeg(delta))"
   ]
  },
  {
   "cell_type": "markdown",
   "metadata": {},
   "source": [
    "Q: How does solar declination vary through the year?"
   ]
  },
  {
   "cell_type": "markdown",
   "metadata": {},
   "source": [
    "A: We can calculate solar declination for every day and plot it:"
   ]
  },
  {
   "cell_type": "code",
   "execution_count": 26,
   "metadata": {},
   "outputs": [
    {
     "data": {
      "image/png": "[encoded data removed]",
      "text/plain": [
       "plot without title"
      ]
     },
     "metadata": {},
     "output_type": "display_data"
    }
   ],
   "source": [
    "ydVector <- seq(1,365,1) # list of integer days\n",
    "deltaVector <- radToDeg(getSolarDec(ydVector)) # corresponding declinations\n",
    "\n",
    "# put in a plottable form and plot\n",
    "plotFrame <- as.data.frame(cbind(ydVector,deltaVector)) \n",
    "ggplot(plotFrame, aes(x=ydVector, y=deltaVector)) + geom_line(col='blue') + theme_linedraw() +\n",
    "  labs(x=\"YD\", y=\"Solar Declination (degrees)\") + geom_hline(yintercept=0) +\n",
    "  geom_hline(yintercept=23.5) + geom_hline(yintercept=-23.5) +\n",
    "  annotate(\"text\", x=50, y=20, label=\"Max. ~23.5 deg\") +\n",
    "  annotate(\"text\", x=50, y=-20, label=\"Min. ~ -23.5 deg\")"
   ]
  },
  {
   "cell_type": "markdown",
   "metadata": {},
   "source": [
    "Note where the extreme values occur -> do not line up with calendar year! What does a comparison to the simplified calculation look like?"
   ]
  },
  {
   "cell_type": "code",
   "execution_count": null,
   "metadata": {},
   "outputs": [],
   "source": []
  }
 ],
 "metadata": {
  "kernelspec": {
   "display_name": "R",
   "language": "R",
   "name": "ir"
  },
  "language_info": {
   "codemirror_mode": "r",
   "file_extension": ".r",
   "mimetype": "text/x-r-source",
   "name": "R",
   "pygments_lexer": "r",
   "version": "3.6.2"
  }
 },
 "nbformat": 4,
 "nbformat_minor": 2
}
